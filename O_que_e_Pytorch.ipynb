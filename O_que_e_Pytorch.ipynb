{
 "cells": [
  {
   "cell_type": "markdown",
   "metadata": {},
   "source": [
    "# O que é PyTorch?\n",
    "\n",
    "É um pacote de computação científica com base em Python com dois objetivos:\n",
    "* um substituto do NumPy para usar o pder das GPUs;\n",
    "* uma plataforma de pesquisa em _Deep Learning_ que fornece máxima flexibilidade e velocidade.\n",
    "\n",
    "## Primeiro contato\n",
    "\n",
    "Testando se este foi instalado corretamente."
   ]
  },
  {
   "cell_type": "code",
   "execution_count": 28,
   "metadata": {},
   "outputs": [
    {
     "data": {
      "text/plain": [
       "True"
      ]
     },
     "execution_count": 28,
     "metadata": {},
     "output_type": "execute_result"
    }
   ],
   "source": [
    "# importing libs\n",
    "from __future__ import print_function\n",
    "import torch\n",
    "torch.cuda.is_available()"
   ]
  },
  {
   "cell_type": "markdown",
   "metadata": {},
   "source": [
    "## Tensores\n",
    "\n",
    "Tensores são semelhantes aos `ndarrays` do NumPy, com a diferença de que Tensores podem também ser usados em uma GPU para acelerar a computação."
   ]
  },
  {
   "cell_type": "markdown",
   "metadata": {},
   "source": [
    "> Uma matriz não-inicializada é declarada, mas não contém valores definitivos conhecidos antes de serem usados. Quando uma matris não-inicializada é criada, qualquer valor que estavam alocados na memória no momento aparecerá como valores iniciais.\n",
    "\n",
    "Construção de uma matriz 5.3, não-inicializada:"
   ]
  },
  {
   "cell_type": "code",
   "execution_count": 29,
   "metadata": {},
   "outputs": [
    {
     "name": "stdout",
     "output_type": "stream",
     "text": [
      "tensor([[1.3765e+22, 4.5664e-41, 1.3765e+22],\n",
      "        [4.5664e-41, 0.0000e+00, 0.0000e+00],\n",
      "        [0.0000e+00, 0.0000e+00, 0.0000e+00],\n",
      "        [0.0000e+00, 7.7052e+31, 7.2148e+22],\n",
      "        [2.5226e-18, 6.4825e-10, 1.0299e-11]])\n"
     ]
    }
   ],
   "source": [
    "x = torch.empty(5,3)\n",
    "print(x)"
   ]
  },
  {
   "cell_type": "markdown",
   "metadata": {},
   "source": [
    "Construção de uma matriz inicializada aleatoriamente:"
   ]
  },
  {
   "cell_type": "code",
   "execution_count": 30,
   "metadata": {},
   "outputs": [
    {
     "name": "stdout",
     "output_type": "stream",
     "text": [
      "tensor([[0.4049, 0.5429, 0.1121],\n",
      "        [0.8149, 0.2919, 0.8323],\n",
      "        [0.8631, 0.2860, 0.0460],\n",
      "        [0.0833, 0.3379, 0.1456],\n",
      "        [0.6450, 0.3340, 0.6962]])\n"
     ]
    }
   ],
   "source": [
    "x = torch.rand(5,3)\n",
    "print(x)"
   ]
  },
  {
   "cell_type": "markdown",
   "metadata": {},
   "source": [
    "Construção de uma matriz preenchida de zeros e de dtype long:"
   ]
  },
  {
   "cell_type": "code",
   "execution_count": 31,
   "metadata": {},
   "outputs": [
    {
     "name": "stdout",
     "output_type": "stream",
     "text": [
      "tensor([[0, 0, 0],\n",
      "        [0, 0, 0],\n",
      "        [0, 0, 0],\n",
      "        [0, 0, 0],\n",
      "        [0, 0, 0]])\n"
     ]
    }
   ],
   "source": [
    "x = torch.zeros(5,3, dtype=torch.long)\n",
    "print(x)"
   ]
  },
  {
   "cell_type": "markdown",
   "metadata": {},
   "source": [
    "Construção de um tensor diretamente de dados:"
   ]
  },
  {
   "cell_type": "code",
   "execution_count": 32,
   "metadata": {},
   "outputs": [
    {
     "name": "stdout",
     "output_type": "stream",
     "text": [
      "tensor([5.5000, 3.0000])\n"
     ]
    }
   ],
   "source": [
    "x = torch.tensor([5.5, 3])\n",
    "print(x)"
   ]
  },
  {
   "cell_type": "markdown",
   "metadata": {},
   "source": [
    "Criação de tensores baseados em um tensor existente. Estes métodos reutilizarão propriedades do tensor de input, e.g. dtype, a não ser que novos valores são fornecidos pelo usuário."
   ]
  },
  {
   "cell_type": "code",
   "execution_count": 33,
   "metadata": {},
   "outputs": [
    {
     "name": "stdout",
     "output_type": "stream",
     "text": [
      "tensor([[1., 1., 1.],\n",
      "        [1., 1., 1.],\n",
      "        [1., 1., 1.],\n",
      "        [1., 1., 1.],\n",
      "        [1., 1., 1.]], dtype=torch.float64)\n",
      "tensor([[ 0.0097,  1.6194,  1.1224],\n",
      "        [ 0.8142, -1.2774, -2.1720],\n",
      "        [-0.4947,  1.1750,  0.1962],\n",
      "        [ 0.7895, -0.5454,  1.7313],\n",
      "        [-0.8729, -0.4750,  0.3006]])\n"
     ]
    }
   ],
   "source": [
    "x = x.new_ones(5, 3, dtype=torch.double)    # métodos new_* requer dimensões (sizes).\n",
    "print(x)\n",
    "\n",
    "x = torch.randn_like(x, dtype=torch.float)  # sobrescreve dtype!\n",
    "print(x)                                    # resultado tem a mesma dimensão."
   ]
  },
  {
   "cell_type": "markdown",
   "metadata": {},
   "source": [
    "Consultar seu tamanho.\n",
    "> `torch.size` retorna uma tupla, então esta suporta todas operações de tuplas."
   ]
  },
  {
   "cell_type": "code",
   "execution_count": 34,
   "metadata": {},
   "outputs": [
    {
     "data": {
      "text/plain": [
       "torch.Size([5, 3])"
      ]
     },
     "execution_count": 34,
     "metadata": {},
     "output_type": "execute_result"
    }
   ],
   "source": [
    "x.size()"
   ]
  },
  {
   "cell_type": "markdown",
   "metadata": {},
   "source": [
    "## Operações\n",
    "\n",
    "Há múltiplas sintaxes para operações. Nos exemplos a seguir, veremos a operação de adição de tensores.\n",
    "\n",
    "Adição: sintaxe 1"
   ]
  },
  {
   "cell_type": "code",
   "execution_count": 35,
   "metadata": {},
   "outputs": [
    {
     "name": "stdout",
     "output_type": "stream",
     "text": [
      "tensor([[ 0.8763,  2.3513,  1.5427],\n",
      "        [ 1.3611, -0.8185, -1.9195],\n",
      "        [ 0.1033,  1.9678,  0.5241],\n",
      "        [ 1.7448, -0.0498,  1.9301],\n",
      "        [-0.2794,  0.2353,  0.9120]])\n"
     ]
    }
   ],
   "source": [
    "y = torch.rand(5, 3)\n",
    "print(x + y)"
   ]
  },
  {
   "cell_type": "markdown",
   "metadata": {},
   "source": [
    "Adição: sintaxe 2"
   ]
  },
  {
   "cell_type": "code",
   "execution_count": 36,
   "metadata": {},
   "outputs": [
    {
     "name": "stdout",
     "output_type": "stream",
     "text": [
      "tensor([[ 0.8763,  2.3513,  1.5427],\n",
      "        [ 1.3611, -0.8185, -1.9195],\n",
      "        [ 0.1033,  1.9678,  0.5241],\n",
      "        [ 1.7448, -0.0498,  1.9301],\n",
      "        [-0.2794,  0.2353,  0.9120]])\n"
     ]
    }
   ],
   "source": [
    "print(torch.add(x, y))"
   ]
  },
  {
   "cell_type": "markdown",
   "metadata": {},
   "source": [
    "Adição: fornecendo um tensor output como argumento."
   ]
  },
  {
   "cell_type": "code",
   "execution_count": 37,
   "metadata": {},
   "outputs": [
    {
     "name": "stdout",
     "output_type": "stream",
     "text": [
      "tensor([[ 0.8763,  2.3513,  1.5427],\n",
      "        [ 1.3611, -0.8185, -1.9195],\n",
      "        [ 0.1033,  1.9678,  0.5241],\n",
      "        [ 1.7448, -0.0498,  1.9301],\n",
      "        [-0.2794,  0.2353,  0.9120]])\n"
     ]
    }
   ],
   "source": [
    "result = torch.empty(5,3)\n",
    "torch.add(x, y, out=result)\n",
    "print(result)"
   ]
  },
  {
   "cell_type": "markdown",
   "metadata": {},
   "source": [
    "Adição: _in-place_.\n",
    "> Qualquer operação que modifique um tensor _in-place_ é pós-fixado com um `_`. Por exemplo: `x.copy_(y)`, `x.t_()`, mudarão `x`."
   ]
  },
  {
   "cell_type": "code",
   "execution_count": 38,
   "metadata": {},
   "outputs": [
    {
     "name": "stdout",
     "output_type": "stream",
     "text": [
      "tensor([[ 0.8763,  2.3513,  1.5427],\n",
      "        [ 1.3611, -0.8185, -1.9195],\n",
      "        [ 0.1033,  1.9678,  0.5241],\n",
      "        [ 1.7448, -0.0498,  1.9301],\n",
      "        [-0.2794,  0.2353,  0.9120]])\n"
     ]
    }
   ],
   "source": [
    "# adiciona x ao y\n",
    "y.add_(x)\n",
    "print(y)"
   ]
  },
  {
   "cell_type": "markdown",
   "metadata": {},
   "source": [
    "Pode-se utilizar indexação padrão da biblioteca NumPy em tensores!"
   ]
  },
  {
   "cell_type": "code",
   "execution_count": 39,
   "metadata": {},
   "outputs": [
    {
     "name": "stdout",
     "output_type": "stream",
     "text": [
      "tensor([ 1.6194, -1.2774,  1.1750, -0.5454, -0.4750])\n"
     ]
    }
   ],
   "source": [
    "print(x[:, 1])"
   ]
  },
  {
   "cell_type": "markdown",
   "metadata": {},
   "source": [
    "Redimensionamento: Se quiser redimensionar um tensor, podemos utilizar `torch.view`:"
   ]
  },
  {
   "cell_type": "code",
   "execution_count": 40,
   "metadata": {},
   "outputs": [
    {
     "name": "stdout",
     "output_type": "stream",
     "text": [
      "torch.Size([4, 4]) torch.Size([16]) torch.Size([2, 8])\n"
     ]
    }
   ],
   "source": [
    "x = torch.randn(4, 4)\n",
    "y = x.view(16)\n",
    "z = x.view(-1, 8)      # a dimensão -1 é inferida da outra dimensão conhecida.\n",
    "print(x.size(), y.size(), z.size())"
   ]
  },
  {
   "cell_type": "markdown",
   "metadata": {},
   "source": [
    "Se tiver um tensor de dimensão 1, use `.item()` para pegar o valor como um número Python."
   ]
  },
  {
   "cell_type": "code",
   "execution_count": 41,
   "metadata": {},
   "outputs": [
    {
     "name": "stdout",
     "output_type": "stream",
     "text": [
      "tensor([-1.0167])\n",
      "-1.016679286956787\n"
     ]
    }
   ],
   "source": [
    "x = torch.randn(1)\n",
    "print(x)\n",
    "print(x.item())"
   ]
  },
  {
   "cell_type": "markdown",
   "metadata": {},
   "source": [
    "## NumPy Bridge\n",
    "\n",
    "Convertendo um Tensor Torch em um _array_ NumPy e vice-versa é simples.\n",
    "\n",
    "O Tensor Torch e _array_ NumPy compartilharão os locais de memória subjacentes (se o Tensor Torch estiver na CPU), então alterando um alterará o outro."
   ]
  },
  {
   "cell_type": "markdown",
   "metadata": {},
   "source": [
    "### Convertendo um Tensor Torch em um _Array_ NumPy"
   ]
  },
  {
   "cell_type": "code",
   "execution_count": 42,
   "metadata": {},
   "outputs": [
    {
     "name": "stdout",
     "output_type": "stream",
     "text": [
      "tensor([1., 1., 1., 1., 1.])\n",
      "[1. 1. 1. 1. 1.]\n"
     ]
    }
   ],
   "source": [
    "a = torch.ones(5)\n",
    "print(a)\n",
    "\n",
    "b = a.numpy()\n",
    "print(b)"
   ]
  },
  {
   "cell_type": "markdown",
   "metadata": {},
   "source": [
    "Observe como o _array_ numpy também altera o valor."
   ]
  },
  {
   "cell_type": "code",
   "execution_count": 43,
   "metadata": {},
   "outputs": [
    {
     "name": "stdout",
     "output_type": "stream",
     "text": [
      "tensor([2., 2., 2., 2., 2.])\n",
      "[2. 2. 2. 2. 2.]\n"
     ]
    }
   ],
   "source": [
    "a.add_(1)\n",
    "print(a)\n",
    "print(b)"
   ]
  },
  {
   "cell_type": "markdown",
   "metadata": {},
   "source": [
    "### Convertendo um _Array_ NumPy em um Tensor Torch\n",
    "\n",
    "Observe como alterar um _array_ numpy altera o Tensor Torch automaticamente."
   ]
  },
  {
   "cell_type": "code",
   "execution_count": 44,
   "metadata": {},
   "outputs": [
    {
     "name": "stdout",
     "output_type": "stream",
     "text": [
      "[2. 2. 2. 2. 2.]\n",
      "tensor([2., 2., 2., 2., 2.], dtype=torch.float64)\n"
     ]
    }
   ],
   "source": [
    "import numpy as np\n",
    "a = np.ones(5)\n",
    "b = torch.from_numpy(a)\n",
    "np.add(a, 1, out=a)\n",
    "print(a)\n",
    "print(b)"
   ]
  },
  {
   "cell_type": "markdown",
   "metadata": {},
   "source": [
    "Todos os Tensores na CPU podem ser convertidos em NumPy e vice-versa, exceto _CharTensor_. "
   ]
  },
  {
   "cell_type": "markdown",
   "metadata": {},
   "source": [
    "## Tensores CUDA\n",
    "\n",
    "Tensores podem ser movidos sobre qualquer dispositivo usando o método `.to`."
   ]
  },
  {
   "cell_type": "code",
   "execution_count": 45,
   "metadata": {},
   "outputs": [
    {
     "name": "stdout",
     "output_type": "stream",
     "text": [
      "tensor([-0.0167], device='cuda:0')\n",
      "tensor([-0.0167], dtype=torch.float64)\n"
     ]
    }
   ],
   "source": [
    "# executaremos esta célula apenas se CUDA estiver disponível.\n",
    "# Usaremos objetos ``torch.device`` para mover tensores para/do GPU.\n",
    "if (torch.cuda.is_available()):\n",
    "    device = torch.device(\"cuda\")         # um objetdo de dispositivo CUDA.\n",
    "    y = torch.ones_like(x, device=device) # cria um tensor no GPU diretamente.\n",
    "    x = x.to(device)                      # ou apenas use strings ``.to(\"cuda\")``\n",
    "    z = x + y\n",
    "    print(z)\n",
    "    print(z.to(\"cpu\", torch.double))      # ``.to`` pode também alterar o dtype junto!"
   ]
  },
  {
   "cell_type": "markdown",
   "metadata": {},
   "source": [
    "> Referência: [WHAT IS PYTORCH?](https://pytorch.org/tutorials/beginner/blitz/tensor_tutorial.html#sphx-glr-beginner-blitz-tensor-tutorial-py)"
   ]
  }
 ],
 "metadata": {
  "kernelspec": {
   "display_name": "Python 3",
   "language": "python",
   "name": "python3"
  },
  "language_info": {
   "codemirror_mode": {
    "name": "ipython",
    "version": 3
   },
   "file_extension": ".py",
   "mimetype": "text/x-python",
   "name": "python",
   "nbconvert_exporter": "python",
   "pygments_lexer": "ipython3",
   "version": "3.7.6"
  }
 },
 "nbformat": 4,
 "nbformat_minor": 4
}
