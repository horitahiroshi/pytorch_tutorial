{
 "cells": [
  {
   "cell_type": "markdown",
   "metadata": {},
   "source": [
    "# Treinando um classificador\n",
    "\n",
    "Bom, já vimos como definir uma rede neural, computar perda e atualizar os pesos da rede.\n",
    "\n",
    "**E agora?**\n",
    "\n",
    "Geralmente, quando temos que lidar com dados de imagem, texto, áudio ou vídeo, podemos usar pacotes padrões de python que carregam os dados em um _array_ de NumPy. Então convertemos este _array_ em um `torch.*Tensor`.\n",
    "\n",
    "* Para imagens, pacotes como Pillow, OpenCV são úteis\n",
    "* Para áudio, pacotes como Scipy e Librosa\n",
    "* Para texto, tanto leituras baseados em Python \\\"cru\\\" ou Cython, ou NLTK e SpaCy são úteis.\n",
    "\n",
    "Especificamente para visão, há um pacote chamado `torchvision`, que tem carregadores de dados para _datasets_ comuns como _Imagenet_, CIFAR10, MNIST, entre outros, e transformadores de dados para imagens, viz., `torchvision.datasets` e `torch.utils.data.DataLoader`.\n",
    "\n",
    "Esse pacote é bastante conveniente e evita escrever códigos clichês.\n",
    "\n",
    "Para este tutorial, usaremos o _dataset_ CIFAR10. Este contém as classes: _'airplane'_, _'automobile'_, _'bird'_, _'cat'_, _'deer'_, _'dog'_, _'frog'_, _'horse'_, _'ship'_, _'truck'_. As imagens no CIFAR10 são de tamanho 3x32x32, i.e. 3 canais de cores de imagens de tamanho 32x32 pixels.\n",
    "\n",
    "![cifar10](./img/cifar10.png)\n",
    "\n",
    "## Treinando um classificador de imagem\n",
    "\n",
    "Seguiremos os seguintes passos:\n",
    "\n",
    "1. Carregar e normalizar os _datasets_ de treinamento e de teste do CIFAR10, usando `torchvision`\n",
    "2. Definir uma Rede Neural Convolutiva\n",
    "3. Definir uma função de perda\n",
    "4. Treinar a rede sobre os dados de treinamento\n",
    "5. Testar a rede nos dados de teste\n",
    "\n",
    "### 1. Carregar e normalizar CIFAR10\n",
    "\n",
    "Usando `torchvision` é extremamente fácil de carregar o CIFAR10."
   ]
  },
  {
   "cell_type": "code",
   "execution_count": 1,
   "metadata": {},
   "outputs": [],
   "source": [
    "import torch\n",
    "import torchvision\n",
    "import torchvision.transforms as transforms"
   ]
  },
  {
   "cell_type": "markdown",
   "metadata": {},
   "source": [
    "A saída dos _datasets_ do `torchvision` são imagens _PILImage_ de variação [0, 1]. Devemos transformá-los em Tensores de variação normalizada [-1, 1]. Obs.:\n",
    "> Se rodar no Windows e retornar um <span style=\"color:red\">**BrokenPipeError**</span>, tente configurar o `num_worker` do `torch.utils.data.DataLoader()` para 0."
   ]
  },
  {
   "cell_type": "code",
   "execution_count": 2,
   "metadata": {},
   "outputs": [
    {
     "name": "stdout",
     "output_type": "stream",
     "text": [
      "Downloading https://www.cs.toronto.edu/~kriz/cifar-10-python.tar.gz to ./data/cifar-10-python.tar.gz\n"
     ]
    },
    {
     "data": {
      "application/vnd.jupyter.widget-view+json": {
       "model_id": "fe996ec28cf2482f878a7c85d44b2a48",
       "version_major": 2,
       "version_minor": 0
      },
      "text/plain": [
       "HBox(children=(FloatProgress(value=1.0, bar_style='info', max=1.0), HTML(value='')))"
      ]
     },
     "metadata": {},
     "output_type": "display_data"
    },
    {
     "name": "stdout",
     "output_type": "stream",
     "text": [
      "Extracting ./data/cifar-10-python.tar.gz to ./data\n",
      "Files already downloaded and verified\n"
     ]
    }
   ],
   "source": [
    "transform = transforms.Compose(\n",
    "            [transforms.ToTensor(),\n",
    "            transforms.Normalize((0.5, 0.5, 0.5), (0.5, 0.5, 0.5))])\n",
    "\n",
    "trainset = torchvision.datasets.CIFAR10(root = \"./data\",\n",
    "                                        train=True,\n",
    "                                        download=True,\n",
    "                                        transform=transform)\n",
    "trainloader = torch.utils.data.DataLoader(trainset,\n",
    "                                        batch_size=4,\n",
    "                                        shuffle=True,\n",
    "                                        num_workers=2)\n",
    "\n",
    "testset = torchvision.datasets.CIFAR10(root='./data',\n",
    "                                      train=False,\n",
    "                                      download=True,\n",
    "                                      transform=transform)\n",
    "testloader = torch.utils.data.DataLoader(testset,\n",
    "                                        batch_size=4,\n",
    "                                        shuffle=False,\n",
    "                                        num_workers=2)\n",
    "\n",
    "classes = ('plane', 'car', 'bird', 'cat',\n",
    "           'deer', 'dog', 'frog', 'horse', 'ship', 'truck')\n"
   ]
  },
  {
   "cell_type": "markdown",
   "metadata": {},
   "source": [
    "Vamos mostrar algumas imagens de treinamento, só pro diversão. :)"
   ]
  },
  {
   "cell_type": "code",
   "execution_count": 3,
   "metadata": {},
   "outputs": [
    {
     "data": {
      "image/png": "[encoded data removed]",
      "text/plain": [
       "<Figure size 432x288 with 1 Axes>"
      ]
     },
     "metadata": {
      "needs_background": "light"
     },
     "output_type": "display_data"
    },
    {
     "name": "stdout",
     "output_type": "stream",
     "text": [
      "horse  deer   car  bird\n"
     ]
    }
   ],
   "source": [
    "import matplotlib.pyplot as plt\n",
    "import numpy as np\n",
    "\n",
    "\n",
    "# funções para mostrar uma imagem\n",
    "def imshow(img):\n",
    "    img = img / 2 + 0.5     # desnormalizar\n",
    "    npimg = img.numpy()\n",
    "    plt.imshow(np.transpose(npimg, (1, 2, 0)))\n",
    "    plt.show()\n",
    "\n",
    "# pega algumas imagens aleatórias de treinamento\n",
    "dataiter = iter(trainloader)\n",
    "images, labels = dataiter.next()\n",
    "\n",
    "# mostra as imagens\n",
    "imshow(torchvision.utils.make_grid(images))\n",
    "# imprime os labels\n",
    "print(' '.join('%5s' % classes[labels[j]] for j in range(4)))"
   ]
  },
  {
   "cell_type": "markdown",
   "metadata": {},
   "source": [
    "### 2. Definir uma Rede Neural Convolutiva\n",
    "\n",
    "Copie a rede neural da sessão [Redes Neurais](Redes_Neurais.ipynb) e modifique-a para receber imagens de 3 canais (ao invés de imagens de 1 canal)."
   ]
  },
  {
   "cell_type": "code",
   "execution_count": 4,
   "metadata": {},
   "outputs": [],
   "source": [
    "import torch.nn as nn\n",
    "import torch.nn.functional as F\n",
    "\n",
    "\n",
    "class Net(nn.Module):\n",
    "    def __init__(self):\n",
    "        super(Net, self).__init__()\n",
    "        self.conv1 = nn.Conv2d(3, 6, 5)\n",
    "        self.pool = nn.MaxPool2d(2, 2)\n",
    "        self.conv2 = nn.Conv2d(6, 16, 5)\n",
    "        self.fc1 = nn.Linear(16 * 5 * 5, 120)\n",
    "        self.fc2 = nn.Linear(120, 84)\n",
    "        self.fc3 = nn.Linear(84, 10)\n",
    "\n",
    "    def forward(self, x):\n",
    "        x = self.pool(F.relu(self.conv1(x)))\n",
    "        x = self.pool(F.relu(self.conv2(x)))\n",
    "        x = x.view(-1, 16 * 5 * 5)\n",
    "        x = F.relu(self.fc1(x))\n",
    "        x = F.relu(self.fc2(x))\n",
    "        x = self.fc3(x)\n",
    "        return x\n",
    "\n",
    "\n",
    "net = Net()"
   ]
  },
  {
   "cell_type": "markdown",
   "metadata": {},
   "source": [
    "### 3. Definir uma função de perda e um otimizador\n",
    "\n",
    "Vamos usar a _Classification Cross-Entropy loss_ e SGD com _momentum_."
   ]
  },
  {
   "cell_type": "code",
   "execution_count": 5,
   "metadata": {},
   "outputs": [],
   "source": [
    "import torch.optim as optim\n",
    "\n",
    "criterion = nn.CrossEntropyLoss()\n",
    "optimizer = optim.SGD(net.parameters(), lr=0.001, momentum=0.9)"
   ]
  },
  {
   "cell_type": "markdown",
   "metadata": {},
   "source": [
    "### 4. Treino da rede\n",
    "\n",
    "Aqui é onde as coisas começam a ficar interessantes. Temos apenas que fazer um looping sobre nosso iterador de dados, e alimentar a entrada da rede e otimizar."
   ]
  },
  {
   "cell_type": "code",
   "execution_count": 6,
   "metadata": {},
   "outputs": [
    {
     "name": "stdout",
     "output_type": "stream",
     "text": [
      "[1,  2000] loss: 2.196\n",
      "[1,  4000] loss: 1.847\n",
      "[1,  6000] loss: 1.677\n",
      "[1,  8000] loss: 1.589\n",
      "[1, 10000] loss: 1.516\n",
      "[1, 12000] loss: 1.491\n",
      "[2,  2000] loss: 1.409\n",
      "[2,  4000] loss: 1.407\n",
      "[2,  6000] loss: 1.350\n",
      "[2,  8000] loss: 1.331\n",
      "[2, 10000] loss: 1.311\n",
      "[2, 12000] loss: 1.320\n",
      "Finished Training\n"
     ]
    }
   ],
   "source": [
    "for epoch in range(2):  # looping sobre o dataset várias vezes\n",
    "\n",
    "    running_loss = 0.0\n",
    "    for i, data in enumerate(trainloader, 0):\n",
    "        # pega as entradas; dados é uma lista de [inputs, labels]\n",
    "        inputs, labels = data\n",
    "\n",
    "        # zera os gradientes dos parâmetros\n",
    "        optimizer.zero_grad()\n",
    "\n",
    "        # forward + backward + optimize\n",
    "        outputs = net(inputs)\n",
    "        loss = criterion(outputs, labels)\n",
    "        loss.backward()\n",
    "        optimizer.step()\n",
    "\n",
    "        # imprime as estatísticas\n",
    "        running_loss += loss.item()\n",
    "        if i % 2000 == 1999:    # imprime a cada 2000 mini-lotes\n",
    "            print('[%d, %5d] loss: %.3f' %\n",
    "                  (epoch + 1, i + 1, running_loss / 2000))\n",
    "            running_loss = 0.0\n",
    "\n",
    "print('Treino Finalizado')"
   ]
  },
  {
   "cell_type": "markdown",
   "metadata": {},
   "source": [
    "Vamos rapidamente salvar nosso modelo treinado."
   ]
  },
  {
   "cell_type": "code",
   "execution_count": 7,
   "metadata": {},
   "outputs": [],
   "source": [
    "PATH = './cifar_net.pth'\n",
    "torch.save(net.state_dict(), PATH)"
   ]
  },
  {
   "cell_type": "markdown",
   "metadata": {},
   "source": [
    "Para mais informações sobre salvar modelos PyTorch, veja [aqui](https://pytorch.org/docs/stable/notes/serialization.html).\n",
    "\n",
    "### 5. Teste da rede\n",
    "\n",
    "Treinamos a rede em 2 passes pelo _dataset_ de treinamento. Agora precisamos chegar se a rede aprendeu alguma coisa.\n",
    "\n",
    "Checaremos isso através da comparação da classificação da rede neural com o _ground-truth_. Se a predição for correta, adicionamos a amostra à lista de predições corretas.\n",
    "\n",
    "Okay, primeiro passo. Vamos exibir uma imagem do conjunto de teste para nos familiarizar."
   ]
  },
  {
   "cell_type": "code",
   "execution_count": 10,
   "metadata": {},
   "outputs": [
    {
     "data": {
      "image/png": "[encoded data removed]",
      "text/plain": [
       "<Figure size 432x288 with 1 Axes>"
      ]
     },
     "metadata": {
      "needs_background": "light"
     },
     "output_type": "display_data"
    },
    {
     "name": "stdout",
     "output_type": "stream",
     "text": [
      "GroundTruth:    cat  ship  ship plane\n"
     ]
    }
   ],
   "source": [
    "dataiter = iter(testloader)\n",
    "images, labels = dataiter.next()\n",
    "\n",
    "# imprime imagens\n",
    "imshow(torchvision.utils.make_grid(images))\n",
    "print('GroundTruth: ', ' '.join('%5s' % classes[labels[j]] for j in range(4)))"
   ]
  },
  {
   "cell_type": "markdown",
   "metadata": {},
   "source": [
    "A seguir, vamos carregar nosso modelo salvo (nota: salvar e recarregar o model não foi necessário aqui, apenas o fizemos para ilustrar como se faz)."
   ]
  },
  {
   "cell_type": "code",
   "execution_count": 11,
   "metadata": {},
   "outputs": [
    {
     "data": {
      "text/plain": [
       "<All keys matched successfully>"
      ]
     },
     "execution_count": 11,
     "metadata": {},
     "output_type": "execute_result"
    }
   ],
   "source": [
    "net = Net()\n",
    "net.load_state_dict(torch.load(PATH))"
   ]
  },
  {
   "cell_type": "markdown",
   "metadata": {},
   "source": [
    "Okay, agora vejamos o que a rede neural pensa que são as imagens exemplos acima."
   ]
  },
  {
   "cell_type": "code",
   "execution_count": 12,
   "metadata": {},
   "outputs": [],
   "source": [
    "outputs = net(images)"
   ]
  },
  {
   "cell_type": "markdown",
   "metadata": {},
   "source": [
    "As saídas são energias para as 10 classes. Quanto mais alta a energia para a classe, mais a rede pensa que a imagem é de uma classe particular. Então, vamos pegar o índice da anergia mais alta."
   ]
  },
  {
   "cell_type": "code",
   "execution_count": 15,
   "metadata": {},
   "outputs": [
    {
     "name": "stdout",
     "output_type": "stream",
     "text": [
      "Predito:    cat  ship   car  ship\n"
     ]
    }
   ],
   "source": [
    "_, predicted = torch.max(outputs, 1)\n",
    "\n",
    "print('Predito: ', ' '.join('%5s' % classes[predicted[j]]\n",
    "                              for j in range(4)))"
   ]
  },
  {
   "cell_type": "markdown",
   "metadata": {},
   "source": [
    "Os resultados parecem razoáveis.\n",
    "\n",
    "Vamos ver como a rede performa no _dataset_ inteiro."
   ]
  },
  {
   "cell_type": "code",
   "execution_count": 16,
   "metadata": {},
   "outputs": [
    {
     "name": "stdout",
     "output_type": "stream",
     "text": [
      "Acurácia da rede nos 10000 imagens de teste: 53 %\n"
     ]
    }
   ],
   "source": [
    "correct = 0\n",
    "total = 0\n",
    "with torch.no_grad():\n",
    "    for data in testloader:\n",
    "        images, labels = data\n",
    "        outputs = net(images)\n",
    "        _, predicted = torch.max(outputs.data, 1)\n",
    "        total += labels.size(0)\n",
    "        correct += (predicted == labels).sum().item()\n",
    "\n",
    "print('Acurácia da rede nos 10000 imagens de teste: %d %%' % (\n",
    "    100 * correct / total))"
   ]
  },
  {
   "cell_type": "markdown",
   "metadata": {},
   "source": [
    "Isso parece bem melhor do que o acaso, que teria 10% de acurácia (se pegasse aleatoriamente uma classe de 10 classes). Então parece que a rede aprendeu algo.\n",
    "\n",
    "Bom, quais são as classes nas quais a rede obteve e não obteve boa performance?"
   ]
  },
  {
   "cell_type": "code",
   "execution_count": 17,
   "metadata": {},
   "outputs": [
    {
     "name": "stdout",
     "output_type": "stream",
     "text": [
      "Acurácia of plane : 45 %\n",
      "Acurácia of   car : 77 %\n",
      "Acurácia of  bird : 49 %\n",
      "Acurácia of   cat : 21 %\n",
      "Acurácia of  deer : 55 %\n",
      "Acurácia of   dog : 54 %\n",
      "Acurácia of  frog : 55 %\n",
      "Acurácia of horse : 57 %\n",
      "Acurácia of  ship : 76 %\n",
      "Acurácia of truck : 44 %\n"
     ]
    }
   ],
   "source": [
    "class_correct = list(0. for i in range(10))\n",
    "class_total = list(0. for i in range(10))\n",
    "with torch.no_grad():\n",
    "    for data in testloader:\n",
    "        images, labels = data\n",
    "        outputs = net(images)\n",
    "        _, predicted = torch.max(outputs, 1)\n",
    "        c = (predicted == labels).squeeze()\n",
    "        for i in range(4):\n",
    "            label = labels[i]\n",
    "            class_correct[label] += c[i].item()\n",
    "            class_total[label] += 1\n",
    "\n",
    "\n",
    "for i in range(10):\n",
    "    print('Acurácia of %5s : %2d %%' % (\n",
    "        classes[i], 100 * class_correct[i] / class_total[i]))"
   ]
  },
  {
   "cell_type": "markdown",
   "metadata": {},
   "source": [
    "Okay, e agora?\n",
    "\n",
    "Como rodamos esta rede neural na GPU?\n",
    "\n",
    "## Treinando na GPU\n",
    "\n",
    "Da mesma forma que transferimos um Tensor a um GPU, transferimos a rede neural ao GPU.\n",
    "\n",
    "Vamos primeiro definir nosso dispositivo como o primeiro CUDA visível, se tivermos CUDA disponível."
   ]
  },
  {
   "cell_type": "code",
   "execution_count": 18,
   "metadata": {},
   "outputs": [
    {
     "name": "stdout",
     "output_type": "stream",
     "text": [
      "cuda:0\n"
     ]
    }
   ],
   "source": [
    "device = torch.device(\"cuda:0\" if torch.cuda.is_available() else \"cpu\")\n",
    "\n",
    "# Assumindo que estamos em uma máquina CUDA, um dispositivo CUDA deve ser impresso.\n",
    "print(device)"
   ]
  },
  {
   "cell_type": "markdown",
   "metadata": {},
   "source": [
    "O resto desta sessão assume que `device` é um dispositivo CUDA.\n",
    "\n",
    "Então, estes métodos irão recursivamente em todos os módulos e converter seus parâmetros e _buffers_ em tensors CUDA."
   ]
  },
  {
   "cell_type": "code",
   "execution_count": 19,
   "metadata": {},
   "outputs": [
    {
     "data": {
      "text/plain": [
       "Net(\n",
       "  (conv1): Conv2d(3, 6, kernel_size=(5, 5), stride=(1, 1))\n",
       "  (pool): MaxPool2d(kernel_size=2, stride=2, padding=0, dilation=1, ceil_mode=False)\n",
       "  (conv2): Conv2d(6, 16, kernel_size=(5, 5), stride=(1, 1))\n",
       "  (fc1): Linear(in_features=400, out_features=120, bias=True)\n",
       "  (fc2): Linear(in_features=120, out_features=84, bias=True)\n",
       "  (fc3): Linear(in_features=84, out_features=10, bias=True)\n",
       ")"
      ]
     },
     "execution_count": 19,
     "metadata": {},
     "output_type": "execute_result"
    }
   ],
   "source": [
    "net.to(device)"
   ]
  },
  {
   "cell_type": "markdown",
   "metadata": {},
   "source": [
    "Lembre-se que teremos que enviar as _inputs_ e _targets_ (entradas e alvos) em todos os passos ao GPU também."
   ]
  },
  {
   "cell_type": "code",
   "execution_count": 20,
   "metadata": {},
   "outputs": [],
   "source": [
    "inputs, labels = data[0].to(device), data[1].to(device)"
   ]
  },
  {
   "cell_type": "markdown",
   "metadata": {},
   "source": [
    "Por que não podemos notar aumento MASSIVO de velocidade comparado ao CPU?\n",
    "Porque esta rede é muito pequena!\n",
    "\n",
    "> Referência: [TRAINING A CLASSIFIER](https://pytorch.org/tutorials/beginner/blitz/cifar10_tutorial.html#sphx-glr-beginner-blitz-cifar10-tutorial-py)"
   ]
  },
  {
   "cell_type": "markdown",
   "metadata": {},
   "source": [
    "# Exercício\n",
    "\n",
    "Tente aumentar a largura da sua rede (argumento 2 da primeira `nn.Conv2d`, e argumento 1 da segunda `nn.Conv2d` - eles precisam ser de mesmo valor), veja que tipo de aumento de velocidade consegue.\n",
    "\n",
    "<!-- Veja solução [aqui](./Exercicio.ipynb). -->"
   ]
  }
 ],
 "metadata": {
  "kernelspec": {
   "display_name": "Python 3",
   "language": "python",
   "name": "python3"
  },
  "language_info": {
   "codemirror_mode": {
    "name": "ipython",
    "version": 3
   },
   "file_extension": ".py",
   "mimetype": "text/x-python",
   "name": "python",
   "nbconvert_exporter": "python",
   "pygments_lexer": "ipython3",
   "version": "3.7.6"
  }
 },
 "nbformat": 4,
 "nbformat_minor": 4
}
