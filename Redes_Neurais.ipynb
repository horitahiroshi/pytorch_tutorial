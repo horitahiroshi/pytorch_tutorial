{
 "cells": [
  {
   "cell_type": "markdown",
   "metadata": {},
   "source": [
    "# Redes Neurais\n",
    "\n",
    "Redes neurais podem ser construídas usando o pacote `torch.nn`.\n",
    "\n",
    "As redes neurais `nn` (neural-networks) depende do [`autograd`](./AUTOGRAD_Diferenciacao_Automatica.ipynb) para definir modelos e diferenciá-los. Um `nn.Module` contém camadas e um método `forward(input)` que retorna a saída `output`.\n",
    "\n",
    "Por exemplo, veja esta rede neural que classifica imagens de dígito:\n",
    "\n",
    "![mnist](./img/mnist.png)\n",
    "\n",
    "## ConvNet - Rede Convolutiva\n",
    "\n",
    "É uma rede simples _feed-forward_ (sem realimentação). \n",
    "Esta recebe o _input_ (entrada), alimenta através das diversas camadas, uma após a outra, e retorna um _output_ (saída).\n",
    "\n",
    "Um típico procedimento de treinamento para uma rede neural ocorre da seguinte forma:\n",
    "* Definir a rede neural com parâmetros aprendíveis (ou pesos);\n",
    "* Iterar sobre um dataset de _inputs_ (entradas);\n",
    "* Processar o _input_ através da rede;\n",
    "* Computar a perda / _loss_ (quão distante está a saída da resposta correta);\n",
    "* Retropropagar os gradientes nos parâmetros da rede;\n",
    "* Atualizar os pesos da rede, ticamente usando uma regra simples de atualização: `weight = weight - learning_rate * gradient` (`peso = peso - taxa_aprendizage * gradiente`).\n",
    "\n",
    "## Definir a rede\n",
    "\n",
    "Vamos definir esta rede:"
   ]
  },
  {
   "cell_type": "code",
   "execution_count": 20,
   "metadata": {},
   "outputs": [
    {
     "name": "stdout",
     "output_type": "stream",
     "text": [
      "Net(\n",
      "  (conv1): Conv2d(1, 6, kernel_size=(3, 3), stride=(1, 1))\n",
      "  (conv2): Conv2d(6, 16, kernel_size=(3, 3), stride=(1, 1))\n",
      "  (fc1): Linear(in_features=576, out_features=120, bias=True)\n",
      "  (fc2): Linear(in_features=120, out_features=84, bias=True)\n",
      "  (fc3): Linear(in_features=84, out_features=10, bias=True)\n",
      ")\n"
     ]
    }
   ],
   "source": [
    "import torch\n",
    "import torch.nn as nn\n",
    "import torch.nn.functional as F\n",
    "\n",
    "class Net(nn.Module):\n",
    "    \n",
    "    def __init__(self):\n",
    "        super(Net, self).__init__()\n",
    "        # 1 canal de entrada de imagem, 6 canais de saída,\n",
    "        # convolução com kernel quadrado 3x3.\n",
    "        self.conv1 = nn.Conv2d(1, 6, 3)\n",
    "        self.conv2 = nn.Conv2d(6, 16, 3)\n",
    "        # uma operação afim: y = Wx + b\n",
    "        self.fc1 = nn.Linear(16 * 6 * 6, 120) # 5*5 da dimensão da imagem.\n",
    "        self.fc2 = nn.Linear(120, 84)\n",
    "        self.fc3 = nn.Linear(84, 10)\n",
    "    \n",
    "    def forward(self, x):\n",
    "        # Max pooling sobre janela 2x2\n",
    "        x = F.max_pool2d(F.relu(self.conv1(x)), (2, 2))\n",
    "        # Se a dimensão for quadrada, pode-se apenas especificar\n",
    "        # um único número.\n",
    "        x = F.max_pool2d(F.relu(self.conv2(x)), 2)\n",
    "        x = x.view(-1, self.num_flat_features(x))\n",
    "        x = F.relu(self.fc1(x))\n",
    "        x = F.relu(self.fc2(x))\n",
    "        x = self.fc3(x)\n",
    "        return x\n",
    "    \n",
    "    def num_flat_features(self, x):\n",
    "        size = x.size()[1:]  # todas as dimensões exceto a dimensão do batch (lote).\n",
    "        num_features = 1\n",
    "        for s in size:\n",
    "            num_features *= s\n",
    "        return num_features\n",
    "\n",
    "\n",
    "net = Net()\n",
    "print(net)"
   ]
  },
  {
   "cell_type": "markdown",
   "metadata": {},
   "source": [
    "Devemos apenas que definir a função `forward`, e a função `backward` (onde os gradientes são computados) é automaticamente definida usando o `autograd`. Podemos usar quaisquer operações de Tensor na função `forward`.\n",
    "\n",
    "Os parâmetros aprendíveis de um modelo são retornados pelo `net.parameters()`."
   ]
  },
  {
   "cell_type": "code",
   "execution_count": 21,
   "metadata": {},
   "outputs": [
    {
     "name": "stdout",
     "output_type": "stream",
     "text": [
      "10\n",
      "torch.Size([6, 1, 3, 3])\n"
     ]
    }
   ],
   "source": [
    "params = list(net.parameters())\n",
    "print(len(params))\n",
    "print(params[0].size())  # pesos da conv1"
   ]
  },
  {
   "cell_type": "markdown",
   "metadata": {},
   "source": [
    "Vamos tentar uma entrada aleatória 32x32.\n",
    "> É esperado nesta rede (LeNet) uma entrada de dimensões 32x32. Para usar esta rede no _dataset_ MNIST, favor redimensionar as imagens do mesmo para 32x32."
   ]
  },
  {
   "cell_type": "code",
   "execution_count": 22,
   "metadata": {},
   "outputs": [
    {
     "name": "stdout",
     "output_type": "stream",
     "text": [
      "tensor([[ 0.0703,  0.0442, -0.0490, -0.2371,  0.0373, -0.0442, -0.0313, -0.1098,\n",
      "          0.1088,  0.0491]], grad_fn=<AddmmBackward>)\n"
     ]
    }
   ],
   "source": [
    "input = torch.randn(1, 1, 32, 32)\n",
    "out = net(input)\n",
    "print(out)"
   ]
  },
  {
   "cell_type": "markdown",
   "metadata": {},
   "source": [
    "Zere os _buffers_ de gradiente de todos parâmetros e retropropagações com gradientes aleatórios:"
   ]
  },
  {
   "cell_type": "code",
   "execution_count": 23,
   "metadata": {},
   "outputs": [],
   "source": [
    "net.zero_grad()\n",
    "out.backward(torch.randn(1, 10))"
   ]
  },
  {
   "cell_type": "markdown",
   "metadata": {},
   "source": [
    "> `torch.nn` suporta apenas _mini-batches_. O pacote `torch.nn` inteiro apenas suporta entradas que são _mini-batches_ (mini-lotes) de amostras, e não amostra única.\n",
    "\n",
    "> Por exemplo, `nn.Conv2d` receberá um Tensor 4D de `nAmostras x nCanais x Altura x Largura`.\n",
    "\n",
    "> Se tiver uma amostra única, apenas use `input.unsqueeze(0)` para adicionar uma falsa dimensão de lote.\n",
    "\n",
    "Antes de prosseguir, vamos recapitular todos os conteúdos vistos até agora.\n",
    "\n",
    "## Recapituação\n",
    "\n",
    "* `torch.Tensor` - um _array_ multi-dimensional com suporte ao às operações de autograd, como `backward()`. Também mantém o gradiente com respeito ao tensor.\n",
    "* `nn.Module` - _Neural Network Module_. Meio conveniente de encapsular parâmetros, com auxílio à movimentação dos mesmos ao GPU, exportando, carregando, etc.\n",
    "* `nn.Parameter` - um tipo de Tensor que é automaticamente registrado como um parâmetro quando atribuido como um atributo de um `Module`.\n",
    "* `autograd.Function` - Implementa as definições de _forward_ e _backward_ de uma operação autograd. Toda operação Tensor cria pelo menos um nó de `Function`que conecta à funções que criam um Tensor e codifica seu histórico.\n",
    "\n",
    "## _Loss Function_ (Função de Perda)\n",
    "\n",
    "Uma função de perda pega o par (_output_, _target_) como entradas e computa um valor que estima quão distante o _output_ (saída) está do _target_ (alvo).\n",
    "\n",
    "Há diversas funções de perda diferentes no pacote `nn`. Uma função de perda simples é: `nn.MSELoss`, que computa o erro quadrático médio entre o _output_ e o _target_.\n",
    "\n",
    "Por exemplo:"
   ]
  },
  {
   "cell_type": "code",
   "execution_count": 24,
   "metadata": {},
   "outputs": [
    {
     "name": "stdout",
     "output_type": "stream",
     "text": [
      "tensor(0.9116, grad_fn=<MseLossBackward>)\n"
     ]
    }
   ],
   "source": [
    "output = net(input)\n",
    "target = torch.randn(10)  # um alvo aleatório, por exemplo.\n",
    "target = target.view(1, -1)  # redimensiona para a mesma forma da saída.\n",
    "criterion = nn.MSELoss()\n",
    "\n",
    "loss = criterion(output, target)\n",
    "print(loss)"
   ]
  },
  {
   "cell_type": "markdown",
   "metadata": {},
   "source": [
    "Agora, se seguimos `loss` na direção _backward_ (reversa), usando seu atributo `.grad_fn`, veremos um grafo de computações parecido com:\n",
    "> input -> conv2d -> relu -> maxpool2d -> conv2d -> relu -> maxpool2d <br/>\n",
    "-> view -> linear -> relu -> linear -> relu -> linear <br/>\n",
    "-> MSELoss <br/>\n",
    "-> loss\n",
    "\n",
    "Então, quando chamamos `loss.backward()`, o grafo inteiro é diferenciado com relação à perda, e todos Tensores no grafo que tem `requires_grad=True` terão seus Tensores `.grad` acumulados com o gradiente.\n",
    "\n",
    "Para ilustrar, vamos seguir alguns passos _backwards_:"
   ]
  },
  {
   "cell_type": "code",
   "execution_count": 25,
   "metadata": {},
   "outputs": [
    {
     "name": "stdout",
     "output_type": "stream",
     "text": [
      "<MseLossBackward object at 0x7fe28d5de890>\n",
      "<AddmmBackward object at 0x7fe28d5de490>\n",
      "<AccumulateGrad object at 0x7fe28d5de890>\n"
     ]
    }
   ],
   "source": [
    "print(loss.grad_fn)  # MSELoss\n",
    "print(loss.grad_fn.next_functions[0][0])  # Linear\n",
    "print(loss.grad_fn.next_functions[0][0].next_functions[0][0])  # ReLu"
   ]
  },
  {
   "cell_type": "markdown",
   "metadata": {},
   "source": [
    "## Retropropagação (_Backprop_)\n",
    "\n",
    "Para retropropagar o erro, tudo que devemos fazer é `loss.backward()`. Devemos limpar os gradientes existentes ou, caso contrário, os gradientes serão acumulados aos gradientes existentes.\n",
    "\n",
    "Agora chamamos `loss.backward()`. Observe os gradientes do _bias_ (viés_ na `conv1` antes e depois do `backward`."
   ]
  },
  {
   "cell_type": "code",
   "execution_count": 26,
   "metadata": {},
   "outputs": [
    {
     "name": "stdout",
     "output_type": "stream",
     "text": [
      "conv1.bias.grad antes da retropropagação.\n",
      "tensor([0., 0., 0., 0., 0., 0.])\n",
      "conv1.bias.grad após a retropropagação.\n",
      "tensor([-0.0117, -0.0117,  0.0243, -0.0102,  0.0217,  0.0124])\n"
     ]
    }
   ],
   "source": [
    "net.zero_grad()  # zera os buffers de gradiente de todos os parâmetros\n",
    "\n",
    "print(\"conv1.bias.grad antes da retropropagação.\")\n",
    "print(net.conv1.bias.grad)\n",
    "\n",
    "loss.backward()\n",
    "\n",
    "print(\"conv1.bias.grad após a retropropagação.\")\n",
    "print(net.conv1.bias.grad)"
   ]
  },
  {
   "cell_type": "markdown",
   "metadata": {},
   "source": [
    "Agora vimos como usar as funções de perda.\n",
    "\n",
    "## Atualização dos pesos\n",
    "\n",
    "A regra mais simples de atualização usada na prática é o _Stochastic Gradient Descent_ (Gradiente Descendente Estocástico - SGD):\n",
    "\n",
    "$$peso = peso - taxa\\_aprendizagem * gradiente$$\n",
    "\n",
    "Podemos implementá-lo usando código simples em Python:"
   ]
  },
  {
   "cell_type": "code",
   "execution_count": 27,
   "metadata": {},
   "outputs": [],
   "source": [
    "learning_rate = 0.01\n",
    "for f in net.parameters():\n",
    "    f.data.sub_(f.grad.data * learning_rate)"
   ]
  },
  {
   "cell_type": "markdown",
   "metadata": {},
   "source": [
    "No entanto, como usamos redes neurais, queremos usar várias regras diferentes de atualização, como _SGD_, _Nesterov-SGD_, _Adam_, _RMSProp_, etc. Para isso, há um pequeno pacote: `torch.optim` que implementa todos esses métodos."
   ]
  },
  {
   "cell_type": "code",
   "execution_count": 28,
   "metadata": {},
   "outputs": [],
   "source": [
    "import torch.optim as optim\n",
    "\n",
    "# cria seu otimizador\n",
    "optimizer = optim.SGD(net.parameters(), lr=0.01)\n",
    "\n",
    "# no seu loop de treinamento\n",
    "optimizer.zero_grad()  # zera os buffers de gradiente\n",
    "output = net(input)\n",
    "loss = criterion(output, target)\n",
    "loss.backward()\n",
    "optimizer.step()  # faz a atualização."
   ]
  },
  {
   "cell_type": "markdown",
   "metadata": {},
   "source": [
    "> Observe como os _buffers_ de gradiente tiveram que ser zerados manualmente usando `optimizer.zero_grad()`. Isso porque os gradientes são acumulados, conforme explicado anteriormente na sessão [Retropropagação](##retropropagação-(_Backprop_)).\n",
    "\n",
    "> Referência: [NEURAL NETWORK](https://pytorch.org/tutorials/beginner/blitz/neural_networks_tutorial.html#sphx-glr-beginner-blitz-neural-networks-tutorial-py)"
   ]
  }
 ],
 "metadata": {
  "kernelspec": {
   "display_name": "Python 3",
   "language": "python",
   "name": "python3"
  },
  "language_info": {
   "codemirror_mode": {
    "name": "ipython",
    "version": 3
   },
   "file_extension": ".py",
   "mimetype": "text/x-python",
   "name": "python",
   "nbconvert_exporter": "python",
   "pygments_lexer": "ipython3",
   "version": "3.7.6"
  }
 },
 "nbformat": 4,
 "nbformat_minor": 4
}
